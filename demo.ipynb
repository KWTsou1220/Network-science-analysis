{
 "cells": [
  {
   "cell_type": "code",
   "execution_count": 1,
   "metadata": {
    "collapsed": false
   },
   "outputs": [],
   "source": [
    "from utils import read_train_data, read_test_data\n",
    "from utils import extract_features, build_text_dict\n",
    "from sklearn.cross_validation import train_test_split\n",
    "from sklearn.metrics import f1_score\n",
    "\n",
    "import networkx as nx\n",
    "import numpy as np\n",
    "import xgboost as xgb\n",
    "import time\n",
    "import math\n",
    "import pickle\n",
    "import pandas as pd\n",
    "\n",
    "train_data_path = './Dataset/training_set.txt'\n",
    "test_data_path = './Dataset/testing_set.txt'\n",
    "node_info_path = './Dataset/node_information.csv'"
   ]
  },
  {
   "cell_type": "markdown",
   "metadata": {},
   "source": [
    "# Loading data and extracting features"
   ]
  },
  {
   "cell_type": "code",
   "execution_count": 2,
   "metadata": {
    "collapsed": false
   },
   "outputs": [],
   "source": [
    "\n",
    "G, node_pairs_train, t_train = read_train_data(train_data_path)\n",
    "node_pairs_test = read_test_data(test_data_path)\n",
    "node_info = build_text_dict(node_info_path)\n",
    "'''\n",
    "print('Extract features from training data')\n",
    "x_train = extract_features(G, node_pairs_train, node_info)\n",
    "#tmp = pd.read_csv('./Dataset/X_train.csv')\n",
    "#tmp = tmp.values\n",
    "#x_train = np.concatenate([x_train, tmp], axis=1)\n",
    "\n",
    "print('Extract features from test data')\n",
    "x_test = extract_features(G, node_pairs_test, node_info)\n",
    "#tmp = pd.read_csv('./Dataset/X_test.csv')\n",
    "#tmp = tmp.values\n",
    "#x_train = np.concatenate([x_test, tmp], axis=1)\n",
    "\n",
    "np.save('./Dataset/x_train', x_train)\n",
    "np.save('./Dataset/x_test', x_test)\n",
    "\n",
    "'''\n",
    "G, node_pairs_train, t_train = read_train_data(train_data_path)\n",
    "x_train = np.load('./Dataset/x_train.npy')\n",
    "x_test = np.load('./Dataset/x_test.npy')\n"
   ]
  },
  {
   "cell_type": "code",
   "execution_count": 3,
   "metadata": {
    "collapsed": false
   },
   "outputs": [],
   "source": [
    "#x_train, x_valid, t_train, t_valid = train_test_split(x_train, t_train, test_size=0.4)"
   ]
  },
  {
   "cell_type": "markdown",
   "metadata": {},
   "source": [
    "# XGBoost"
   ]
  },
  {
   "cell_type": "code",
   "execution_count": 3,
   "metadata": {
    "collapsed": false
   },
   "outputs": [
    {
     "name": "stdout",
     "output_type": "stream",
     "text": [
      "Time:  2008.8311800956726\n"
     ]
    }
   ],
   "source": [
    "param = {'objective': 'multi:softmax', # Specify multiclass classification\n",
    "         'num_class': 2, # Number of possible output classes\n",
    "         'tree_method': 'gpu_hist' # Use GPU accelerated algorithm\n",
    "        }  \n",
    "start = time.time()\n",
    "xgb_class = xgb.XGBClassifier(max_depth=25, n_estimators=1000, nthread=2, **param)\n",
    "xgb_class.fit(x_train, t_train)\n",
    "end = time.time()\n",
    "print('Time: ', end-start)\n",
    "\n",
    "#y_valid = xgb.predict(x_valid)\n",
    "#print('F1 score: ', f1_score(y_pred=y_valid, y_true=t_valid, average='macro'))\n",
    "\n",
    "\n",
    "with open('Models/xgb.pickle', 'wb') as f:\n",
    "    pickle.dump(xgb_class, f)\n",
    "    \n",
    "'''\n",
    "with open('save/clf.pickle', 'rb') as f:\n",
    "    clf2 = pickle.load(f)\n",
    "    print(clf2.predict(X[0:1]))\n",
    "'''\n",
    "\n",
    "\n",
    "split_num = 3000\n",
    "data_size = x_test.shape[0]\n",
    "n_iter = math.ceil(data_size/split_num)\n",
    "y_test = []\n",
    "for idx in range(n_iter):\n",
    "    y = xgb_class.predict(x_test[idx*split_num:(idx+1)*split_num])\n",
    "    y_test += [y]\n",
    "\n",
    "y_test = np.concatenate(y_test, axis=0)\n",
    "data_size = y_test.shape[0]\n",
    "id_ = np.arange(data_size)\n",
    "df = pd.DataFrame(data=np.stack([id_, y_test], axis=1), columns=['id', 'category'])\n",
    "df.to_csv('./Dataset/test_xgb_500_20.csv', index=False)"
   ]
  }
 ],
 "metadata": {
  "anaconda-cloud": {},
  "kernelspec": {
   "display_name": "Python [Root]",
   "language": "python",
   "name": "Python [Root]"
  },
  "language_info": {
   "codemirror_mode": {
    "name": "ipython",
    "version": 3
   },
   "file_extension": ".py",
   "mimetype": "text/x-python",
   "name": "python",
   "nbconvert_exporter": "python",
   "pygments_lexer": "ipython3",
   "version": "3.5.1"
  }
 },
 "nbformat": 4,
 "nbformat_minor": 0
}
